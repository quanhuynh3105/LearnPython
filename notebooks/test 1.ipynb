{
  "cells": [
    {
      "cell_type": "markdown",
      "metadata": {
        "id": "view-in-github",
        "colab_type": "text"
      },
      "source": [
        "<a href=\"https://colab.research.google.com/github/quanhuynh3105/LearnPython/blob/main/notebooks/test%201.ipynb\" target=\"_parent\"><img src=\"https://colab.research.google.com/assets/colab-badge.svg\" alt=\"Open In Colab\"/></a>"
      ]
    },
    {
      "cell_type": "markdown",
      "source": [
        "# Test 1"
      ],
      "metadata": {
        "id": "acnUNGT-cq8D"
      }
    },
    {
      "cell_type": "code",
      "source": [
        "def games():\n",
        "  nm = int(input(\"Choose a number from -10 to 10:\"))\n",
        "  return nm\n",
        "def num():\n",
        "  nm = games()\n",
        "  number = random.randint(-10,10)\n",
        "  print(number)\n",
        "  if number == nm:\n",
        "    print('|nice job| :D')\n",
        "  else:\n",
        "    print('|you lose| XD')\n",
        "num()\n"
      ],
      "metadata": {
        "colab": {
          "base_uri": "https://localhost:8080/"
        },
        "id": "cSN6ErZga_Ke",
        "outputId": "3879ffd8-0fea-433b-cd0c-12882d90fda6"
      },
      "execution_count": 62,
      "outputs": [
        {
          "output_type": "stream",
          "name": "stdout",
          "text": [
            "Choose a number from -10 to 10:-5\n",
            "-6\n",
            "|you lose| XD\n"
          ]
        }
      ]
    }
  ],
  "metadata": {
    "colab": {
      "collapsed_sections": [],
      "name": "colab-github-demo.ipynb",
      "provenance": [],
      "include_colab_link": true
    },
    "kernelspec": {
      "display_name": "Python 3",
      "name": "python3"
    }
  },
  "nbformat": 4,
  "nbformat_minor": 0
}