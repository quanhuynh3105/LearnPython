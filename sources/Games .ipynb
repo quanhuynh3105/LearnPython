{
  "cells": [
    {
      "cell_type": "markdown",
      "metadata": {
        "id": "view-in-github",
        "colab_type": "text"
      },
      "source": [
        "<a href=\"https://colab.research.google.com/github/quanhuynh3105/LearnPython/blob/main/sources/Games%20.ipynb\" target=\"_parent\"><img src=\"https://colab.research.google.com/assets/colab-badge.svg\" alt=\"Open In Colab\"/></a>"
      ]
    },
    {
      "cell_type": "markdown",
      "source": [
        "# Game 1\n"
      ],
      "metadata": {
        "id": "acnUNGT-cq8D"
      }
    },
    {
      "cell_type": "code",
      "source": [
        "import random as rn\n",
        "def games():\n",
        "  nm = int(input(\"Choose a number from -10 to 10:\"))\n",
        "  return nm\n",
        "def again():\n",
        "  print('1 = no , 2 = ok')\n",
        "  ag = int(input('Try again??:'))\n",
        "  if ag == 1:\n",
        "    print('Game over')\n",
        "  elif ag ==2:\n",
        "    num()\n",
        "  else:\n",
        "    print('!!|error|!!')\n",
        "    again()\n",
        "def num():\n",
        "  nm = games()\n",
        "  number = rn.randint(-10,10)\n",
        "  print(number)\n",
        "  if number == nm:\n",
        "    print('|nice job| :D')\n",
        "  else:\n",
        "    print('|you lose| XD')\n",
        "  again()\n",
        "\n"
      ],
      "metadata": {
        "id": "cSN6ErZga_Ke"
      },
      "execution_count": 8,
      "outputs": []
    },
    {
      "cell_type": "markdown",
      "source": [
        "# Game 2"
      ],
      "metadata": {
        "id": "pTNvcmH88zTo"
      }
    },
    {
      "cell_type": "code",
      "source": [
        "def rps():\n",
        "  from random import randint\n",
        "  game = 1\n",
        "  while game == 1:\n",
        "      print(\"----------\")\n",
        "      nhap = input(\"kéo, búa, bao? \")\n",
        "      if nhap == \"kéo\" or nhap == \"búa\" or nhap == \"bao\":\n",
        "          win = 0\n",
        "          i2 = randint(1,3)\n",
        "          txt = \"\"\n",
        "          if i2 == 3:\n",
        "              txt = \"bao\"\n",
        "              if nhap == \"kéo\":\n",
        "                  win = 1\n",
        "          elif i2 == 1:\n",
        "              txt = \"kéo\"\n",
        "              if nhap == \"búa\":\n",
        "                  win = 1\n",
        "          elif i2 == 2:\n",
        "              txt = \"búa\"\n",
        "              if nhap == \"bao\":\n",
        "                  win = 1\n",
        "          if nhap == txt:\n",
        "                  win = 2\n",
        "          print(\"---> kết quả <---\")\n",
        "          if win == 1:\n",
        "              print(\"!!! Bạn đã thắng !!!\")\n",
        "          elif win == 0:\n",
        "              print(\"Bạn đã thua :(\")\n",
        "          elif win == 2:\n",
        "              print(\"Hòa nhau >/<\")\n",
        "          print(\"Máy tính ra:\", txt)\n",
        "      else:\n",
        "          print(\"> Vui lòng nhập kéo, búa hoặc bao <\")\n",
        "      print(\"-------------\")\n",
        "      nhap = input(\"Chơi tiếp? [ok, không]: \")\n",
        "      if nhap == \"ok\":\n",
        "          game = 1\n",
        "      else:\n",
        "          game = 0\n",
        "\n"
      ],
      "metadata": {
        "id": "ojX3xh0j83Jc"
      },
      "execution_count": 9,
      "outputs": []
    },
    {
      "cell_type": "markdown",
      "source": [
        "# Full game "
      ],
      "metadata": {
        "id": "jHFUNZGJ9tj3"
      }
    },
    {
      "cell_type": "code",
      "source": [
        "def start():\n",
        "  games = int(input(\"Game 1:Random number Game 2:kéo, búa, bao.What game do you want 1 or 2:\"))\n",
        "  if games == 1:\n",
        "    num()\n",
        "  elif games == 2:\n",
        "    rps()\n",
        "  else :\n",
        "    print('error!!!')\n",
        "    start()\n",
        "start()"
      ],
      "metadata": {
        "id": "4KmsUOKs9smB",
        "outputId": "26726e7d-b7d1-4243-ef55-9f065d196922",
        "colab": {
          "base_uri": "https://localhost:8080/"
        }
      },
      "execution_count": 10,
      "outputs": [
        {
          "output_type": "stream",
          "name": "stdout",
          "text": [
            "Game 1:Random number Game 2:kéo, búa, bao.What game do you want 1 or 2:1\n",
            "Choose a number from -10 to 10:1\n",
            "-6\n",
            "|you lose| XD\n",
            "1 = no , 2 = ok\n",
            "Try again??:1\n",
            "Game over\n"
          ]
        }
      ]
    }
  ],
  "metadata": {
    "colab": {
      "collapsed_sections": [],
      "name": "colab-github-demo.ipynb",
      "provenance": [],
      "include_colab_link": true
    },
    "kernelspec": {
      "display_name": "Python 3",
      "name": "python3"
    }
  },
  "nbformat": 4,
  "nbformat_minor": 0
}