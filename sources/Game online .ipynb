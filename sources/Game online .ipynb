{
  "cells": [
    {
      "cell_type": "markdown",
      "metadata": {
        "id": "view-in-github",
        "colab_type": "text"
      },
      "source": [
        "<a href=\"https://colab.research.google.com/github/quanhuynh3105/LearnPython/blob/main/sources/Game%20online%20.ipynb\" target=\"_parent\"><img src=\"https://colab.research.google.com/assets/colab-badge.svg\" alt=\"Open In Colab\"/></a>"
      ]
    },
    {
      "cell_type": "markdown",
      "source": [
        "# Test 1"
      ],
      "metadata": {
        "id": "acnUNGT-cq8D"
      }
    },
    {
      "cell_type": "code",
      "source": [
        "import random as rn\n",
        "def games():\n",
        "  nm = int(input(\"Choose a number from -10 to 10:\"))\n",
        "  return nm\n",
        "def again():\n",
        "  print('1 = no , 2 = ok')\n",
        "  ag = int(input('Try again??:'))\n",
        "  if ag == 1:\n",
        "    print('Game over')\n",
        "  elif ag ==2:\n",
        "    num()\n",
        "  else:\n",
        "    print('!!|error|!!')\n",
        "    again()\n",
        "def num():\n",
        "  nm = games()\n",
        "  number = rn.randint(-10,10)\n",
        "  print(number)\n",
        "  if number == nm:\n",
        "    print('|nice job| :D')\n",
        "  else:\n",
        "    print('|you lose| XD')\n",
        "  again()\n",
        "num()\n"
      ],
      "metadata": {
        "colab": {
          "base_uri": "https://localhost:8080/"
        },
        "id": "cSN6ErZga_Ke",
        "outputId": "1a399b1e-b50a-4cfe-fa2b-48d0df138ee2"
      },
      "execution_count": 15,
      "outputs": [
        {
          "output_type": "stream",
          "name": "stdout",
          "text": [
            "Choose a number from -10 to 10:1\n",
            "-2\n",
            "|you lose| XD\n",
            "1 = no , 2 = ok\n",
            "Try again??:1\n",
            "Game over3\n"
          ]
        }
      ]
    }
  ],
  "metadata": {
    "colab": {
      "collapsed_sections": [],
      "name": "colab-github-demo.ipynb",
      "provenance": [],
      "include_colab_link": true
    },
    "kernelspec": {
      "display_name": "Python 3",
      "name": "python3"
    }
  },
  "nbformat": 4,
  "nbformat_minor": 0
}